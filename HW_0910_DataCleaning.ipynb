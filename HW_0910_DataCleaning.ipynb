{
  "cells": [
    {
      "cell_type": "code",
      "execution_count": 3,
      "metadata": {
        "id": "0YETsSvi4WGE"
      },
      "outputs": [],
      "source": [
        "import numpy as np\n",
        "import pandas as pd"
      ]
    },
    {
      "cell_type": "markdown",
      "metadata": {
        "id": "toniaqimrAZf"
      },
      "source": [
        "# Load IMDB Data\n",
        "\n",
        "A data set of 1,000 most popular movies on IMDB from 2006 - 2016. The data fields included are:\n",
        "\n",
        "Title, Genre, Description, Director, Actors, Year, Runtime, Rating, Votes, Revenue, Metascrore\n",
        "\n",
        "1. Download the dataset from [Kaggle](https://www.kaggle.com/datasets/PromptCloudHQ/imdb-data?resource=download) - you may need to create a free account with your google account\n",
        "2. Upload the file to your collab session through clicking on the Files menu in the left toolbar (see the image for where to find that)\n",
        "\n",
        "![img](https://drive.google.com/uc?export=view&id=1P4YcZK7g_1gl5XyLClD0StYLo9u9w2w4)\n",
        "\n",
        "3. Read into a pandas dataframe as below\n",
        "\n"
      ]
    },
    {
      "cell_type": "code",
      "execution_count": 21,
      "metadata": {
        "id": "kr2TkWttrT_r"
      },
      "outputs": [],
      "source": [
        "df = pd.read_csv('D:\\ReDi Data Analytics\\IMDB-Movie-Data.csv')"
      ]
    },
    {
      "cell_type": "code",
      "execution_count": 5,
      "metadata": {
        "colab": {
          "base_uri": "https://localhost:8080/",
          "height": 257
        },
        "id": "L9xrG6QLd8ho",
        "outputId": "2abe3ce2-42a5-4d33-ea8d-3a642d71b87b"
      },
      "outputs": [
        {
          "data": {
            "text/html": [
              "<div>\n",
              "<style scoped>\n",
              "    .dataframe tbody tr th:only-of-type {\n",
              "        vertical-align: middle;\n",
              "    }\n",
              "\n",
              "    .dataframe tbody tr th {\n",
              "        vertical-align: top;\n",
              "    }\n",
              "\n",
              "    .dataframe thead th {\n",
              "        text-align: right;\n",
              "    }\n",
              "</style>\n",
              "<table border=\"1\" class=\"dataframe\">\n",
              "  <thead>\n",
              "    <tr style=\"text-align: right;\">\n",
              "      <th></th>\n",
              "      <th>Rank</th>\n",
              "      <th>Title</th>\n",
              "      <th>Genre</th>\n",
              "      <th>Description</th>\n",
              "      <th>Director</th>\n",
              "      <th>Actors</th>\n",
              "      <th>Year</th>\n",
              "      <th>Runtime (Minutes)</th>\n",
              "      <th>Rating</th>\n",
              "      <th>Votes</th>\n",
              "      <th>Revenue (Millions)</th>\n",
              "      <th>Metascore</th>\n",
              "    </tr>\n",
              "  </thead>\n",
              "  <tbody>\n",
              "    <tr>\n",
              "      <th>0</th>\n",
              "      <td>1</td>\n",
              "      <td>Guardians of the Galaxy</td>\n",
              "      <td>Action,Adventure,Sci-Fi</td>\n",
              "      <td>A group of intergalactic criminals are forced ...</td>\n",
              "      <td>James Gunn</td>\n",
              "      <td>Chris Pratt, Vin Diesel, Bradley Cooper, Zoe S...</td>\n",
              "      <td>2014</td>\n",
              "      <td>121</td>\n",
              "      <td>8.1</td>\n",
              "      <td>757074</td>\n",
              "      <td>333.13</td>\n",
              "      <td>76.0</td>\n",
              "    </tr>\n",
              "    <tr>\n",
              "      <th>1</th>\n",
              "      <td>2</td>\n",
              "      <td>Prometheus</td>\n",
              "      <td>Adventure,Mystery,Sci-Fi</td>\n",
              "      <td>Following clues to the origin of mankind, a te...</td>\n",
              "      <td>Ridley Scott</td>\n",
              "      <td>Noomi Rapace, Logan Marshall-Green, Michael Fa...</td>\n",
              "      <td>2012</td>\n",
              "      <td>124</td>\n",
              "      <td>7.0</td>\n",
              "      <td>485820</td>\n",
              "      <td>126.46</td>\n",
              "      <td>65.0</td>\n",
              "    </tr>\n",
              "    <tr>\n",
              "      <th>2</th>\n",
              "      <td>3</td>\n",
              "      <td>Split</td>\n",
              "      <td>Horror,Thriller</td>\n",
              "      <td>Three girls are kidnapped by a man with a diag...</td>\n",
              "      <td>M. Night Shyamalan</td>\n",
              "      <td>James McAvoy, Anya Taylor-Joy, Haley Lu Richar...</td>\n",
              "      <td>2016</td>\n",
              "      <td>117</td>\n",
              "      <td>7.3</td>\n",
              "      <td>157606</td>\n",
              "      <td>138.12</td>\n",
              "      <td>62.0</td>\n",
              "    </tr>\n",
              "  </tbody>\n",
              "</table>\n",
              "</div>"
            ],
            "text/plain": [
              "   Rank                    Title                     Genre  \\\n",
              "0     1  Guardians of the Galaxy   Action,Adventure,Sci-Fi   \n",
              "1     2               Prometheus  Adventure,Mystery,Sci-Fi   \n",
              "2     3                    Split           Horror,Thriller   \n",
              "\n",
              "                                         Description            Director  \\\n",
              "0  A group of intergalactic criminals are forced ...          James Gunn   \n",
              "1  Following clues to the origin of mankind, a te...        Ridley Scott   \n",
              "2  Three girls are kidnapped by a man with a diag...  M. Night Shyamalan   \n",
              "\n",
              "                                              Actors  Year  Runtime (Minutes)  \\\n",
              "0  Chris Pratt, Vin Diesel, Bradley Cooper, Zoe S...  2014                121   \n",
              "1  Noomi Rapace, Logan Marshall-Green, Michael Fa...  2012                124   \n",
              "2  James McAvoy, Anya Taylor-Joy, Haley Lu Richar...  2016                117   \n",
              "\n",
              "   Rating   Votes  Revenue (Millions)  Metascore  \n",
              "0     8.1  757074              333.13       76.0  \n",
              "1     7.0  485820              126.46       65.0  \n",
              "2     7.3  157606              138.12       62.0  "
            ]
          },
          "execution_count": 5,
          "metadata": {},
          "output_type": "execute_result"
        }
      ],
      "source": [
        "df.head(3)"
      ]
    },
    {
      "cell_type": "markdown",
      "metadata": {
        "id": "7rdPQ4aYuKX2"
      },
      "source": [
        "## Excercises"
      ]
    },
    {
      "cell_type": "code",
      "execution_count": 11,
      "metadata": {
        "id": "i_t3qW98uPK2"
      },
      "outputs": [
        {
          "name": "stdout",
          "output_type": "stream",
          "text": [
            "<class 'pandas.core.frame.DataFrame'>\n",
            "RangeIndex: 1000 entries, 0 to 999\n",
            "Data columns (total 12 columns):\n",
            " #   Column              Non-Null Count  Dtype  \n",
            "---  ------              --------------  -----  \n",
            " 0   Rank                1000 non-null   int64  \n",
            " 1   Title               1000 non-null   object \n",
            " 2   Genre               1000 non-null   object \n",
            " 3   Description         1000 non-null   object \n",
            " 4   Director            1000 non-null   object \n",
            " 5   Actors              1000 non-null   object \n",
            " 6   Year                1000 non-null   int64  \n",
            " 7   Runtime (Minutes)   1000 non-null   int64  \n",
            " 8   Rating              1000 non-null   float64\n",
            " 9   Votes               1000 non-null   int64  \n",
            " 10  Revenue (Millions)  872 non-null    float64\n",
            " 11  Metascore           936 non-null    float64\n",
            "dtypes: float64(3), int64(4), object(5)\n",
            "memory usage: 93.9+ KB\n"
          ]
        },
        {
          "data": {
            "text/plain": [
              "None"
            ]
          },
          "metadata": {},
          "output_type": "display_data"
        },
        {
          "data": {
            "text/plain": [
              "Rank                    0\n",
              "Title                   0\n",
              "Genre                   0\n",
              "Description             0\n",
              "Director                0\n",
              "Actors                  0\n",
              "Year                    0\n",
              "Runtime (Minutes)       0\n",
              "Rating                  0\n",
              "Votes                   0\n",
              "Revenue (Millions)    128\n",
              "Metascore              64\n",
              "dtype: int64"
            ]
          },
          "metadata": {},
          "output_type": "display_data"
        }
      ],
      "source": [
        "# Check how many missing values there are in each column of the data set\n",
        "display(df.info(),df.isna().sum())"
      ]
    },
    {
      "cell_type": "code",
      "execution_count": 22,
      "metadata": {
        "id": "TMMqTGn7wC2p"
      },
      "outputs": [
        {
          "data": {
            "text/plain": [
              "644"
            ]
          },
          "execution_count": 22,
          "metadata": {},
          "output_type": "execute_result"
        }
      ],
      "source": [
        "# Check how many unique directors are in the list of top 1000 movies\n",
        "df['Director'].nunique()"
      ]
    },
    {
      "cell_type": "code",
      "execution_count": 23,
      "metadata": {
        "id": "2ixKrKNmvylt"
      },
      "outputs": [
        {
          "name": "stdout",
          "output_type": "stream",
          "text": [
            "<class 'pandas.core.frame.DataFrame'>\n",
            "Index: 936 entries, 0 to 999\n",
            "Data columns (total 12 columns):\n",
            " #   Column              Non-Null Count  Dtype  \n",
            "---  ------              --------------  -----  \n",
            " 0   Rank                936 non-null    int64  \n",
            " 1   Title               936 non-null    object \n",
            " 2   Genre               936 non-null    object \n",
            " 3   Description         936 non-null    object \n",
            " 4   Director            936 non-null    object \n",
            " 5   Actors              936 non-null    object \n",
            " 6   Year                936 non-null    int64  \n",
            " 7   Runtime (Minutes)   936 non-null    int64  \n",
            " 8   Rating              936 non-null    float64\n",
            " 9   Votes               936 non-null    int64  \n",
            " 10  Revenue (Millions)  838 non-null    float64\n",
            " 11  Metascore           936 non-null    float64\n",
            "dtypes: float64(3), int64(4), object(5)\n",
            "memory usage: 95.1+ KB\n"
          ]
        },
        {
          "data": {
            "text/plain": [
              "None"
            ]
          },
          "metadata": {},
          "output_type": "display_data"
        }
      ],
      "source": [
        "#Drop all rows where the Metascore (Average Critic's score) is missing\n",
        "df_with_dropped_mts = df.dropna(subset = ['Metascore'])\n",
        "display(df_with_dropped_mts.info())"
      ]
    },
    {
      "cell_type": "code",
      "execution_count": 56,
      "metadata": {
        "id": "tKUdArShwa1b"
      },
      "outputs": [
        {
          "data": {
            "text/plain": [
              "0       85.078723\n",
              "1      107.973281\n",
              "2       54.690976\n",
              "3       54.690976\n",
              "4       54.690976\n",
              "          ...    \n",
              "995     78.355044\n",
              "996     87.882245\n",
              "997     99.082745\n",
              "998     85.078723\n",
              "999     54.690976\n",
              "Name: Revenue (Millions), Length: 1000, dtype: float64"
            ]
          },
          "metadata": {},
          "output_type": "display_data"
        },
        {
          "name": "stdout",
          "output_type": "stream",
          "text": [
            "<class 'pandas.core.frame.DataFrame'>\n",
            "RangeIndex: 1000 entries, 0 to 999\n",
            "Data columns (total 12 columns):\n",
            " #   Column              Non-Null Count  Dtype  \n",
            "---  ------              --------------  -----  \n",
            " 0   Rank                1000 non-null   int64  \n",
            " 1   Title               1000 non-null   object \n",
            " 2   Genre               1000 non-null   object \n",
            " 3   Description         1000 non-null   object \n",
            " 4   Director            1000 non-null   object \n",
            " 5   Actors              1000 non-null   object \n",
            " 6   Year                1000 non-null   int64  \n",
            " 7   Runtime (Minutes)   1000 non-null   int64  \n",
            " 8   Rating              1000 non-null   float64\n",
            " 9   Votes               1000 non-null   int64  \n",
            " 10  Revenue (Millions)  1000 non-null   float64\n",
            " 11  Metascore           936 non-null    float64\n",
            "dtypes: float64(3), int64(4), object(5)\n",
            "memory usage: 93.9+ KB\n"
          ]
        },
        {
          "data": {
            "text/plain": [
              "None"
            ]
          },
          "metadata": {},
          "output_type": "display_data"
        }
      ],
      "source": [
        "#Replace the missing values in the `Revenue (Millions)` column with the average Revenue for other movies in the list for the same `Year`\n",
        "df['Revenue (Millions)'].isna().sum() #128values\n",
        "average_revenue_by_year = df.groupby('Year')['Revenue (Millions)'].transform('mean')\n",
        "df['Revenue (Millions)'].fillna(average_revenue_by_year, inplace=True) #i saved  the new value\n",
        "#display(average_revenue_by_year)\n",
        "#display(df.info())"
      ]
    },
    {
      "cell_type": "code",
      "execution_count": 38,
      "metadata": {
        "id": "vGne9blMYJoJ"
      },
      "outputs": [
        {
          "data": {
            "text/html": [
              "<div>\n",
              "<style scoped>\n",
              "    .dataframe tbody tr th:only-of-type {\n",
              "        vertical-align: middle;\n",
              "    }\n",
              "\n",
              "    .dataframe tbody tr th {\n",
              "        vertical-align: top;\n",
              "    }\n",
              "\n",
              "    .dataframe thead th {\n",
              "        text-align: right;\n",
              "    }\n",
              "</style>\n",
              "<table border=\"1\" class=\"dataframe\">\n",
              "  <thead>\n",
              "    <tr style=\"text-align: right;\">\n",
              "      <th></th>\n",
              "      <th>Rank</th>\n",
              "      <th>Title</th>\n",
              "      <th>Genre</th>\n",
              "      <th>Description</th>\n",
              "      <th>Director</th>\n",
              "      <th>Actors</th>\n",
              "      <th>Year</th>\n",
              "      <th>Runtime (Minutes)</th>\n",
              "      <th>Rating</th>\n",
              "      <th>Votes</th>\n",
              "      <th>Revenue (Millions)</th>\n",
              "      <th>Metascore</th>\n",
              "    </tr>\n",
              "  </thead>\n",
              "  <tbody>\n",
              "    <tr>\n",
              "      <th>80</th>\n",
              "      <td>81</td>\n",
              "      <td>Inception</td>\n",
              "      <td>Action,Adventure,Sci-Fi</td>\n",
              "      <td>A thief, who steals corporate secrets through ...</td>\n",
              "      <td>Christopher Nolan</td>\n",
              "      <td>Leonardo DiCaprio, Joseph Gordon-Levitt, Ellen...</td>\n",
              "      <td>2010</td>\n",
              "      <td>148</td>\n",
              "      <td>8.8</td>\n",
              "      <td>1583625</td>\n",
              "      <td>292.57</td>\n",
              "      <td>74.0</td>\n",
              "    </tr>\n",
              "    <tr>\n",
              "      <th>82</th>\n",
              "      <td>83</td>\n",
              "      <td>The Wolf of Wall Street</td>\n",
              "      <td>Biography,Comedy,Crime</td>\n",
              "      <td>Based on the true story of Jordan Belfort, fro...</td>\n",
              "      <td>Martin Scorsese</td>\n",
              "      <td>Leonardo DiCaprio, Jonah Hill, Margot Robbie,M...</td>\n",
              "      <td>2013</td>\n",
              "      <td>180</td>\n",
              "      <td>8.2</td>\n",
              "      <td>865134</td>\n",
              "      <td>116.87</td>\n",
              "      <td>75.0</td>\n",
              "    </tr>\n",
              "    <tr>\n",
              "      <th>99</th>\n",
              "      <td>100</td>\n",
              "      <td>The Departed</td>\n",
              "      <td>Crime,Drama,Thriller</td>\n",
              "      <td>An undercover cop and a mole in the police att...</td>\n",
              "      <td>Martin Scorsese</td>\n",
              "      <td>Leonardo DiCaprio, Matt Damon, Jack Nicholson,...</td>\n",
              "      <td>2006</td>\n",
              "      <td>151</td>\n",
              "      <td>8.5</td>\n",
              "      <td>937414</td>\n",
              "      <td>132.37</td>\n",
              "      <td>85.0</td>\n",
              "    </tr>\n",
              "    <tr>\n",
              "      <th>129</th>\n",
              "      <td>130</td>\n",
              "      <td>The Revenant</td>\n",
              "      <td>Adventure,Drama,Thriller</td>\n",
              "      <td>A frontiersman on a fur trading expedition in ...</td>\n",
              "      <td>Alejandro González Iñárritu</td>\n",
              "      <td>Leonardo DiCaprio, Tom Hardy, Will Poulter, Do...</td>\n",
              "      <td>2015</td>\n",
              "      <td>156</td>\n",
              "      <td>8.0</td>\n",
              "      <td>499424</td>\n",
              "      <td>183.64</td>\n",
              "      <td>76.0</td>\n",
              "    </tr>\n",
              "    <tr>\n",
              "      <th>137</th>\n",
              "      <td>138</td>\n",
              "      <td>The Great Gatsby</td>\n",
              "      <td>Drama,Romance</td>\n",
              "      <td>A writer and wall street trader, Nick, finds h...</td>\n",
              "      <td>Baz Luhrmann</td>\n",
              "      <td>Leonardo DiCaprio, Carey Mulligan, Joel Edgert...</td>\n",
              "      <td>2013</td>\n",
              "      <td>143</td>\n",
              "      <td>7.3</td>\n",
              "      <td>386102</td>\n",
              "      <td>144.81</td>\n",
              "      <td>55.0</td>\n",
              "    </tr>\n",
              "    <tr>\n",
              "      <th>138</th>\n",
              "      <td>139</td>\n",
              "      <td>Shutter Island</td>\n",
              "      <td>Mystery,Thriller</td>\n",
              "      <td>In 1954, a U.S. marshal investigates the disap...</td>\n",
              "      <td>Martin Scorsese</td>\n",
              "      <td>Leonardo DiCaprio, Emily Mortimer, Mark Ruffal...</td>\n",
              "      <td>2010</td>\n",
              "      <td>138</td>\n",
              "      <td>8.1</td>\n",
              "      <td>855604</td>\n",
              "      <td>127.97</td>\n",
              "      <td>63.0</td>\n",
              "    </tr>\n",
              "    <tr>\n",
              "      <th>144</th>\n",
              "      <td>145</td>\n",
              "      <td>Django Unchained</td>\n",
              "      <td>Drama,Western</td>\n",
              "      <td>With the help of a German bounty hunter , a fr...</td>\n",
              "      <td>Quentin Tarantino</td>\n",
              "      <td>Jamie Foxx, Christoph Waltz, Leonardo DiCaprio...</td>\n",
              "      <td>2012</td>\n",
              "      <td>165</td>\n",
              "      <td>8.4</td>\n",
              "      <td>1039115</td>\n",
              "      <td>162.80</td>\n",
              "      <td>81.0</td>\n",
              "    </tr>\n",
              "    <tr>\n",
              "      <th>459</th>\n",
              "      <td>460</td>\n",
              "      <td>Revolutionary Road</td>\n",
              "      <td>Drama,Romance</td>\n",
              "      <td>A young couple living in a Connecticut suburb ...</td>\n",
              "      <td>Sam Mendes</td>\n",
              "      <td>Leonardo DiCaprio, Kate Winslet, Christopher F...</td>\n",
              "      <td>2008</td>\n",
              "      <td>119</td>\n",
              "      <td>7.3</td>\n",
              "      <td>159736</td>\n",
              "      <td>22.88</td>\n",
              "      <td>69.0</td>\n",
              "    </tr>\n",
              "    <tr>\n",
              "      <th>669</th>\n",
              "      <td>670</td>\n",
              "      <td>Blood Diamond</td>\n",
              "      <td>Adventure,Drama,Thriller</td>\n",
              "      <td>A fisherman, a smuggler, and a syndicate of bu...</td>\n",
              "      <td>Edward Zwick</td>\n",
              "      <td>Leonardo DiCaprio, Djimon Hounsou, Jennifer Co...</td>\n",
              "      <td>2006</td>\n",
              "      <td>143</td>\n",
              "      <td>8.0</td>\n",
              "      <td>422014</td>\n",
              "      <td>57.37</td>\n",
              "      <td>64.0</td>\n",
              "    </tr>\n",
              "    <tr>\n",
              "      <th>737</th>\n",
              "      <td>738</td>\n",
              "      <td>Body of Lies</td>\n",
              "      <td>Action,Drama,Romance</td>\n",
              "      <td>A CIA agent on the ground in Jordan hunts down...</td>\n",
              "      <td>Ridley Scott</td>\n",
              "      <td>Leonardo DiCaprio, Russell Crowe, Mark Strong,...</td>\n",
              "      <td>2008</td>\n",
              "      <td>128</td>\n",
              "      <td>7.1</td>\n",
              "      <td>182305</td>\n",
              "      <td>39.38</td>\n",
              "      <td>57.0</td>\n",
              "    </tr>\n",
              "  </tbody>\n",
              "</table>\n",
              "</div>"
            ],
            "text/plain": [
              "     Rank                    Title                     Genre  \\\n",
              "80     81                Inception   Action,Adventure,Sci-Fi   \n",
              "82     83  The Wolf of Wall Street    Biography,Comedy,Crime   \n",
              "99    100             The Departed      Crime,Drama,Thriller   \n",
              "129   130             The Revenant  Adventure,Drama,Thriller   \n",
              "137   138         The Great Gatsby             Drama,Romance   \n",
              "138   139           Shutter Island          Mystery,Thriller   \n",
              "144   145         Django Unchained             Drama,Western   \n",
              "459   460       Revolutionary Road             Drama,Romance   \n",
              "669   670            Blood Diamond  Adventure,Drama,Thriller   \n",
              "737   738             Body of Lies      Action,Drama,Romance   \n",
              "\n",
              "                                           Description  \\\n",
              "80   A thief, who steals corporate secrets through ...   \n",
              "82   Based on the true story of Jordan Belfort, fro...   \n",
              "99   An undercover cop and a mole in the police att...   \n",
              "129  A frontiersman on a fur trading expedition in ...   \n",
              "137  A writer and wall street trader, Nick, finds h...   \n",
              "138  In 1954, a U.S. marshal investigates the disap...   \n",
              "144  With the help of a German bounty hunter , a fr...   \n",
              "459  A young couple living in a Connecticut suburb ...   \n",
              "669  A fisherman, a smuggler, and a syndicate of bu...   \n",
              "737  A CIA agent on the ground in Jordan hunts down...   \n",
              "\n",
              "                        Director  \\\n",
              "80             Christopher Nolan   \n",
              "82               Martin Scorsese   \n",
              "99               Martin Scorsese   \n",
              "129  Alejandro González Iñárritu   \n",
              "137                 Baz Luhrmann   \n",
              "138              Martin Scorsese   \n",
              "144            Quentin Tarantino   \n",
              "459                   Sam Mendes   \n",
              "669                 Edward Zwick   \n",
              "737                 Ridley Scott   \n",
              "\n",
              "                                                Actors  Year  \\\n",
              "80   Leonardo DiCaprio, Joseph Gordon-Levitt, Ellen...  2010   \n",
              "82   Leonardo DiCaprio, Jonah Hill, Margot Robbie,M...  2013   \n",
              "99   Leonardo DiCaprio, Matt Damon, Jack Nicholson,...  2006   \n",
              "129  Leonardo DiCaprio, Tom Hardy, Will Poulter, Do...  2015   \n",
              "137  Leonardo DiCaprio, Carey Mulligan, Joel Edgert...  2013   \n",
              "138  Leonardo DiCaprio, Emily Mortimer, Mark Ruffal...  2010   \n",
              "144  Jamie Foxx, Christoph Waltz, Leonardo DiCaprio...  2012   \n",
              "459  Leonardo DiCaprio, Kate Winslet, Christopher F...  2008   \n",
              "669  Leonardo DiCaprio, Djimon Hounsou, Jennifer Co...  2006   \n",
              "737  Leonardo DiCaprio, Russell Crowe, Mark Strong,...  2008   \n",
              "\n",
              "     Runtime (Minutes)  Rating    Votes  Revenue (Millions)  Metascore  \n",
              "80                 148     8.8  1583625              292.57       74.0  \n",
              "82                 180     8.2   865134              116.87       75.0  \n",
              "99                 151     8.5   937414              132.37       85.0  \n",
              "129                156     8.0   499424              183.64       76.0  \n",
              "137                143     7.3   386102              144.81       55.0  \n",
              "138                138     8.1   855604              127.97       63.0  \n",
              "144                165     8.4  1039115              162.80       81.0  \n",
              "459                119     7.3   159736               22.88       69.0  \n",
              "669                143     8.0   422014               57.37       64.0  \n",
              "737                128     7.1   182305               39.38       57.0  "
            ]
          },
          "execution_count": 38,
          "metadata": {},
          "output_type": "execute_result"
        }
      ],
      "source": [
        "#Find all he movies where Leonardo DiCaprio is listed as actor.\n",
        "leo_movies = df[df['Actors'].str.contains('Leonardo DiCaprio')]\n",
        "leo_movies.head(20)"
      ]
    },
    {
      "cell_type": "code",
      "execution_count": 40,
      "metadata": {
        "id": "ryMFiW1W4emN"
      },
      "outputs": [
        {
          "data": {
            "text/html": [
              "<div>\n",
              "<style scoped>\n",
              "    .dataframe tbody tr th:only-of-type {\n",
              "        vertical-align: middle;\n",
              "    }\n",
              "\n",
              "    .dataframe tbody tr th {\n",
              "        vertical-align: top;\n",
              "    }\n",
              "\n",
              "    .dataframe thead th {\n",
              "        text-align: right;\n",
              "    }\n",
              "</style>\n",
              "<table border=\"1\" class=\"dataframe\">\n",
              "  <thead>\n",
              "    <tr style=\"text-align: right;\">\n",
              "      <th></th>\n",
              "      <th>0</th>\n",
              "    </tr>\n",
              "    <tr>\n",
              "      <th>Genre</th>\n",
              "      <th></th>\n",
              "    </tr>\n",
              "  </thead>\n",
              "  <tbody>\n",
              "    <tr>\n",
              "      <th>Action,Adventure,Sci-Fi</th>\n",
              "      <td>1</td>\n",
              "    </tr>\n",
              "    <tr>\n",
              "      <th>Action,Drama,Romance</th>\n",
              "      <td>1</td>\n",
              "    </tr>\n",
              "    <tr>\n",
              "      <th>Adventure,Drama,Thriller</th>\n",
              "      <td>2</td>\n",
              "    </tr>\n",
              "    <tr>\n",
              "      <th>Biography,Comedy,Crime</th>\n",
              "      <td>1</td>\n",
              "    </tr>\n",
              "    <tr>\n",
              "      <th>Crime,Drama,Thriller</th>\n",
              "      <td>1</td>\n",
              "    </tr>\n",
              "    <tr>\n",
              "      <th>Drama,Romance</th>\n",
              "      <td>2</td>\n",
              "    </tr>\n",
              "    <tr>\n",
              "      <th>Drama,Western</th>\n",
              "      <td>1</td>\n",
              "    </tr>\n",
              "    <tr>\n",
              "      <th>Mystery,Thriller</th>\n",
              "      <td>1</td>\n",
              "    </tr>\n",
              "  </tbody>\n",
              "</table>\n",
              "</div>"
            ],
            "text/plain": [
              "                          0\n",
              "Genre                      \n",
              "Action,Adventure,Sci-Fi   1\n",
              "Action,Drama,Romance      1\n",
              "Adventure,Drama,Thriller  2\n",
              "Biography,Comedy,Crime    1\n",
              "Crime,Drama,Thriller      1\n",
              "Drama,Romance             2\n",
              "Drama,Western             1\n",
              "Mystery,Thriller          1"
            ]
          },
          "execution_count": 40,
          "metadata": {},
          "output_type": "execute_result"
        }
      ],
      "source": [
        "#In which genres did he play mostly?\n",
        "pd.DataFrame(leo_movies.groupby('Genre').size())"
      ]
    },
    {
      "cell_type": "code",
      "execution_count": 45,
      "metadata": {
        "id": "8cu2jROh4hlm"
      },
      "outputs": [
        {
          "data": {
            "text/plain": [
              "6.723199999999999"
            ]
          },
          "metadata": {},
          "output_type": "display_data"
        },
        {
          "data": {
            "text/plain": [
              "7.969999999999999"
            ]
          },
          "metadata": {},
          "output_type": "display_data"
        }
      ],
      "source": [
        "# And what is the average rating of his movies? Is it higher or lower than the average rating of all movies?\n",
        "display(df['Rating'].mean(),\n",
        "        leo_movies['Rating'].mean()\n",
        ")"
      ]
    }
  ],
  "metadata": {
    "colab": {
      "provenance": []
    },
    "kernelspec": {
      "display_name": "Python 3",
      "name": "python3"
    },
    "language_info": {
      "codemirror_mode": {
        "name": "ipython",
        "version": 3
      },
      "file_extension": ".py",
      "mimetype": "text/x-python",
      "name": "python",
      "nbconvert_exporter": "python",
      "pygments_lexer": "ipython3",
      "version": "3.10.12"
    }
  },
  "nbformat": 4,
  "nbformat_minor": 0
}
